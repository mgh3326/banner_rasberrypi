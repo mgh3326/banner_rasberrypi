{
 "cells": [
  {
   "cell_type": "code",
   "execution_count": 12,
   "metadata": {},
   "outputs": [
    {
     "name": "stdout",
     "output_type": "stream",
     "text": [
      "C:\\ProgramData\\Anaconda3\\lib\\site-packages\\folium\\__init__.py\n",
      "0.6.0\n"
     ]
    }
   ],
   "source": [
    "import folium\n",
    "\n",
    "print(folium.__file__)\n",
    "print(folium.__version__)\n"
   ]
  },
  {
   "cell_type": "code",
   "execution_count": 13,
   "metadata": {},
   "outputs": [],
   "source": [
    "import numpy as np\n",
    "import pandas as pd\n",
    "import numpy.ma as ma\n",
    "\n",
    "\n",
    "def make_data():\n",
    "    x = np.linspace(-np.pi, np.pi, 101)\n",
    "    sin = np.sin(x)\n",
    "    cos = np.cos(x)\n",
    "    cos[20:50] = np.NaN\n",
    "    return pd.DataFrame(np.asanyarray([sin, cos]).T, columns=['sin', 'cos'], index=x)\n",
    "\n",
    "df = make_data()\n",
    "resolution, width, height = 75, 7, 3"
   ]
  },
  {
   "cell_type": "code",
   "execution_count": 14,
   "metadata": {},
   "outputs": [],
   "source": [
    "station = '42'\n",
    "lon, lat = -42, -21\n",
    "mapa = folium.Map(location=[lat, lon], zoom_start=5)"
   ]
  },
  {
   "cell_type": "code",
   "execution_count": 15,
   "metadata": {},
   "outputs": [
    {
     "data": {
      "image/png": "[encoded data removed]",
      "text/plain": [
       "<Figure size 504x216 with 1 Axes>"
      ]
     },
     "metadata": {},
     "output_type": "display_data"
    }
   ],
   "source": [
    "import base64\n",
    "import matplotlib.pyplot as plt\n",
    "\n",
    "fig, ax = plt.subplots(figsize=(width, height))\n",
    "ax = df.plot(ax=ax, legend=False)\n",
    "ax.set_ylabel('Sea surface height (m)')\n",
    "png = 'mpld3_{}.png'.format(station)\n",
    "fig.savefig(png, dpi=resolution)\n",
    "\n",
    "encoded = base64.b64encode(open(png, 'rb').read()).decode()"
   ]
  },
  {
   "cell_type": "code",
   "execution_count": 16,
   "metadata": {},
   "outputs": [],
   "source": [
    "from folium import IFrame\n",
    "\n",
    "html = '<img src=\"data:image/png;base64,{}\">'.format\n",
    "iframe = IFrame(html(encoded), width=(width*resolution)+20, height=(height*resolution)+20)\n",
    "popup = folium.Popup(iframe, max_width=2650)\n",
    "\n",
    "icon = folium.Icon(color=\"red\", icon=\"ok\")\n",
    "marker = folium.Marker(location=[lat-2, lon-1], popup=popup, icon=icon)\n",
    "mapa.add_child(marker);"
   ]
  },
  {
   "cell_type": "code",
   "execution_count": 18,
   "metadata": {},
   "outputs": [],
   "source": [
    "encoded = base64.b64encode(open('ctd.jpg', 'rb').read()).decode()\n",
    "\n",
    "html = '<img src=\"data:image/jpeg;base64,{}\">'.format\n",
    "iframe = IFrame(html(encoded), width=632+20, height=420+20)\n",
    "popup = folium.Popup(iframe, max_width=2650)\n",
    "\n",
    "icon = folium.Icon(color=\"blue\", icon=\"ok\")\n",
    "marker = folium.Marker(location=[lat-2, lon+1], popup=popup, icon=icon)\n",
    "mapa.add_child(marker);"
   ]
  },
  {
   "cell_type": "code",
   "execution_count": 21,
   "metadata": {
    "scrolled": false
   },
   "outputs": [],
   "source": [
    "mapa\n",
    "mapa.save('./out/map6.html')\n"
   ]
  },
  {
   "cell_type": "code",
   "execution_count": null,
   "metadata": {},
   "outputs": [],
   "source": []
  }
 ],
 "metadata": {
  "kernelspec": {
   "display_name": "Python 3",
   "language": "python",
   "name": "python3"
  },
  "language_info": {
   "codemirror_mode": {
    "name": "ipython",
    "version": 3
   },
   "file_extension": ".py",
   "mimetype": "text/x-python",
   "name": "python",
   "nbconvert_exporter": "python",
   "pygments_lexer": "ipython3",
   "version": "3.6.6"
  }
 },
 "nbformat": 4,
 "nbformat_minor": 2
}
